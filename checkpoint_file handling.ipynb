{
 "cells": [
  {
   "cell_type": "markdown",
   "metadata": {},
   "source": [
    "Objective\n",
    "1. Write a Python program to read an entire text file.\n",
    "\n",
    "2. Write a Python program to read first n lines of a file.\n",
    "\n",
    "3. Write a Python program to read last n lines of a file\n",
    "\n",
    "4. Write a Python program that takes a text file as input and returns the number of words of a given text file."
   ]
  },
  {
   "cell_type": "code",
   "execution_count": 13,
   "metadata": {},
   "outputs": [
    {
     "name": "stdout",
     "output_type": "stream",
     "text": [
      "i like Python\n",
      "youssef is a good instructor\n",
      "GoMyCode is a nice center for coding\n"
     ]
    }
   ],
   "source": [
    "L = [\"i like Python\\n\", \"youssef is a good instructor\\n\", \"GoMyCode is a nice center for coding\\n\"]\n",
    "file1 = open('myfile.txt', 'w')\n",
    "file1.writelines(L)\n",
    "file1 = open('myfile.txt', 'r')\n",
    "file_read = file1.readlines()\n",
    "count = 0\n",
    "for line in file_read:\n",
    "    count += 1\n",
    "    print(line, end='')"
   ]
  },
  {
   "cell_type": "code",
   "execution_count": 14,
   "metadata": {},
   "outputs": [
    {
     "name": "stdout",
     "output_type": "stream",
     "text": [
      "['i like Python\\n']\n",
      "['youssef is a good instructor\\n']\n"
     ]
    }
   ],
   "source": [
    "file1 = open('myfile.txt', 'r')\n",
    "number_of_lines= 2\n",
    "for i in range (number_of_lines):\n",
    "    line=file1.readlines(2)\n",
    "    print(line)  "
   ]
  },
  {
   "cell_type": "code",
   "execution_count": 15,
   "metadata": {},
   "outputs": [
    {
     "data": {
      "text/plain": [
       "['GoMyCode is a nice center for coding\\n']"
      ]
     },
     "execution_count": 15,
     "metadata": {},
     "output_type": "execute_result"
    }
   ],
   "source": [
    "file1 = open('myfile.txt', 'r')\n",
    "lines=file1.readlines()\n",
    "last_lines=lines[-1:]\n",
    "last_lines"
   ]
  },
  {
   "cell_type": "code",
   "execution_count": 16,
   "metadata": {},
   "outputs": [
    {
     "name": "stdout",
     "output_type": "stream",
     "text": [
      "Enter file name: myfile.txt\n",
      "Number of words is 15\n"
     ]
    }
   ],
   "source": [
    "file1 = input(\"Enter file name: \")\n",
    "num_words = 0\n",
    "with open(file1, 'r') as f:\n",
    "    for line in f:\n",
    "        num_words += len(line.split())\n",
    "print(\"Number of words is\",num_words)"
   ]
  },
  {
   "cell_type": "code",
   "execution_count": null,
   "metadata": {},
   "outputs": [],
   "source": []
  }
 ],
 "metadata": {
  "kernelspec": {
   "display_name": "Python 3",
   "language": "python",
   "name": "python3"
  },
  "language_info": {
   "codemirror_mode": {
    "name": "ipython",
    "version": 3
   },
   "file_extension": ".py",
   "mimetype": "text/x-python",
   "name": "python",
   "nbconvert_exporter": "python",
   "pygments_lexer": "ipython3",
   "version": "3.8.3"
  }
 },
 "nbformat": 4,
 "nbformat_minor": 4
}
